{
 "cells": [
  {
   "cell_type": "code",
   "execution_count": 67,
   "metadata": {},
   "outputs": [
    {
     "name": "stdout",
     "output_type": "stream",
     "text": [
      "<abstracts-retrieval-response xmlns=\"http://www.elsevier.com/xml/svapi/abstract/dtd\" xmlns:dn=\"http://www.elsevier.com/xml/svapi/abstract/dtd\" xmlns:ait=\"http://www.elsevier.com/xml/ani/ait\" xmlns:ce=\"http://www.elsevier.com/xml/ani/common\" xmlns:cto=\"http://www.elsevier.com/xml/cto/dtd\" xmlns:dc=\"http://purl.org/dc/elements/1.1/\" xmlns:prism=\"http://prismstandard.org/namespaces/basic/2.0/\" xmlns:xocs=\"http://www.elsevier.com/xml/xocs/dtd\" xmlns:xsi=\"http://www.w3.org/2001/XMLSchema-instance\"><coredata><prism:url>https://api.elsevier.com/content/abstract/scopus_id/85178919210</prism:url><dc:identifier>SCOPUS_ID:85178919210</dc:identifier><eid>2-s2.0-85178919210</eid><prism:doi>10.47750/QAS/25.199.34</prism:doi><dc:title>Collaborative Governance Model In Sustainable Village Tourism Development (Case Study: Kemiren Village Tourism In Ijen Crater Geopark Cultural Site)</dc:title><prism:aggregationType>Journal</prism:aggregationType><srctype>j</srctype><subtype>ar</subtype><subtypeDescription>Article</subtypeDescription><citedby-count>0</citedby-count><prism:publicationName>Quality - Access to Success</prism:publicationName><dc:publisher>SRAC - Romanian Society for Quality</dc:publisher><source-id>17700156709</source-id><prism:issn>15822559</prism:issn><prism:volume>25</prism:volume><prism:issueIdentifier>199</prism:issueIdentifier><prism:startingPage>310</prism:startingPage><prism:endingPage>318</prism:endingPage><prism:pageRange>310-318</prism:pageRange><prism:coverDate>2024-01-01</prism:coverDate><openaccess>0</openaccess><openaccessFlag>false</openaccessFlag><dc:creator><author seq=\"1\" auid=\"57215500620\"><ce:initials>M.</ce:initials><ce:indexed-name>Nuh M.</ce:indexed-name><ce:surname>Nuh</ce:surname><ce:given-name>Mohammad</ce:given-name><preferred-name><ce:initials>M.</ce:initials><ce:indexed-name>Nuh M.</ce:indexed-name><ce:surname>Nuh</ce:surname><ce:given-name>Mohammad</ce:given-name></preferred-name><author-url>https://api.elsevier.com/content/author/author_id/57215500620</author-url><affiliation id=\"60069392\" href=\"https://api.elsevier.com/content/affiliation/affiliation_id/60069392\"/></author></dc:creator><link href=\"https://api.elsevier.com/content/abstract/scopus_id/85178919210\" rel=\"self\"/><link href=\"https://www.scopus.com/inward/record.uri?partnerID=HzOxMe3b&amp;scp=85178919210&amp;origin=inward\" rel=\"scopus\"/><link href=\"https://www.scopus.com/inward/citedby.uri?partnerID=HzOxMe3b&amp;scp=85178919210&amp;origin=inward\" rel=\"scopus-citedby\"/></coredata><affiliation><affilname>Brawijaya University</affilname><affiliation-city>Malang</affiliation-city><affiliation-country>Indonesia</affiliation-country></affiliation></abstracts-retrieval-response>\n",
      "prism:doi: 10.47750/QAS/25.199.34\n",
      "dc:title: Collaborative Governance Model In Sustainable Village Tourism Development (Case Study: Kemiren Village Tourism In Ijen Crater Geopark Cultural Site)\n",
      "dc:publisher: SRAC - Romanian Society for Quality\n",
      "openaccessFlag: false\n",
      "2024\n",
      "openaccessFlag: false\n",
      "prism:aggregationType: Journal\n",
      "subtypeDescription: Article\n",
      "1\n",
      "Nuh M.\n"
     ]
    }
   ],
   "source": [
    "import httpx \n",
    "import time\n",
    "import xml.etree.ElementTree as ET\n",
    "from xml.dom.minidom import parse\n",
    "import xml.dom.minidom\n",
    "\n",
    "\n",
    "def scopus_paper_date(paper_doi,apikey):\n",
    "    apikey=apikey\n",
    "    headers={\n",
    "        \"X-ELS-APIKey\":apikey,\n",
    "        \"Accept\":'text/xml'\n",
    "         }\n",
    "\n",
    "    timeout = httpx.Timeout(10.0, connect=60.0)\n",
    "    client = httpx.Client(timeout=timeout,headers=headers)\n",
    "    query=\"&view=FULL\"    \n",
    "    url=f\"https://api.elsevier.com/content/abstract/doi/\"+paper_doi \n",
    "    r=client.get(url)   \n",
    "    return r.text\n",
    "\n",
    "y = scopus_paper_date('10.47750/QAS/25.199.34',\"56c99a76116facd7f462f42ef0ece786\")\n",
    "print(y)\n",
    "\n",
    "DOMTree = xml.dom.minidom.parseString(y) #Opening the XML document\n",
    "xmlFile=DOMTree.documentElement\n",
    "\n",
    "\n",
    "    \n",
    "\n",
    "def getDataPaper(aspect):\n",
    "    dataPaper = xmlFile.getElementsByTagName(aspect)[0]    \n",
    "    print(str(aspect)+\": \"+str(dataPaper.firstChild.data))\n",
    "\n",
    "def getDataPaperYear():\n",
    "    dataPaper = xmlFile.getElementsByTagName(\"prism:coverDate\")[0]    \n",
    "    return str(dataPaper.firstChild.data)\n",
    "\n",
    "def getYearPaper(date):\n",
    "    newDate = str(date)    \n",
    "    year = newDate.split(\"-\")[0]\n",
    "    print(year)\n",
    "\n",
    "def getAuthors():\n",
    "    authors = xmlFile.getElementsByTagName(\"dc:creator\")[0] \n",
    "    childNote = authors._get_childNodes()._get_length()\n",
    "    print(childNote)\n",
    "    author = authors.getElementsByTagName(\"author\")[0]\n",
    "    author = author.getElementsByTagName(\"ce:indexed-name\")[0]\n",
    "    print(author.firstChild.data)\n",
    "    \n",
    "   \n",
    "\n",
    "\n",
    "\n",
    "getDataPaper(\"prism:doi\")\n",
    "getDataPaper(\"dc:title\")\n",
    "getDataPaper(\"dc:publisher\")\n",
    "getDataPaper(\"openaccessFlag\")\n",
    "getYearPaper(getDataPaperYear())  \n",
    "getDataPaper(\"openaccessFlag\")\n",
    "getDataPaper(\"prism:aggregationType\")\n",
    "getDataPaper(\"subtypeDescription\")\n",
    "getAuthors()  \n"
   ]
  },
  {
   "cell_type": "code",
   "execution_count": 54,
   "metadata": {},
   "outputs": [
    {
     "name": "stdout",
     "output_type": "stream",
     "text": [
      "1\n",
      "Joshi S.\n"
     ]
    }
   ],
   "source": [
    " "
   ]
  }
 ],
 "metadata": {
  "kernelspec": {
   "display_name": ".venv",
   "language": "python",
   "name": "python3"
  },
  "language_info": {
   "codemirror_mode": {
    "name": "ipython",
    "version": 3
   },
   "file_extension": ".py",
   "mimetype": "text/x-python",
   "name": "python",
   "nbconvert_exporter": "python",
   "pygments_lexer": "ipython3",
   "version": "3.12.0"
  }
 },
 "nbformat": 4,
 "nbformat_minor": 2
}
