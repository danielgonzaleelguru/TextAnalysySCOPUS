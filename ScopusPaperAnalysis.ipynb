{
 "cells": [
  {
   "cell_type": "code",
   "execution_count": 1,
   "metadata": {},
   "outputs": [
    {
     "name": "stdout",
     "output_type": "stream",
     "text": [
      "<Response [200 OK]>\n",
      "prism:doi: 10.3390/su14148728\n",
      "dc:title: Proposal for a Framework to Develop Sustainable Tourism on the Santurbán Moor, Colombia, as an Alternative Source of Income between Environmental Sustainability and Mining\n",
      "subtypeDescription: Article\n",
      "dc:publisher: MDPI\n",
      "openaccessFlag: true\n",
      "prism:aggregationType: Journal\n",
      "2022\n"
     ]
    }
   ],
   "source": [
    "import httpx \n",
    "import time\n",
    "import xml.etree.ElementTree as ET\n",
    "from xml.dom.minidom import parse\n",
    "import xml.dom.minidom\n",
    "\n",
    "\n",
    "def scopus_paper_date(paper_doi,apikey):\n",
    "    apikey=apikey\n",
    "    headers={\n",
    "        \"X-ELS-APIKey\":apikey,\n",
    "        \"Accept\":'text/xml'\n",
    "         }\n",
    "\n",
    "    timeout = httpx.Timeout(10.0, connect=60.0)\n",
    "    client = httpx.Client(timeout=timeout,headers=headers)\n",
    "    query=\"&view=FULL\"\n",
    "    url=f\"https://api.elsevier.com/content/abstract/doi/\"+paper_doi \n",
    "    r=client.get(url)\n",
    "    print(r)\n",
    "    return r.text\n",
    "\n",
    "y = scopus_paper_date('10.3390/su14148728',\"56c99a76116facd7f462f42ef0ece786\")\n",
    "\n",
    "\n",
    "DOMTree = xml.dom.minidom.parseString(y) #Opening the XML document\n",
    "xmlFile=DOMTree.documentElement\n",
    "\n",
    "    \n",
    "\n",
    "def getDataPaper(aspect):\n",
    "    dataPaper = xmlFile.getElementsByTagName(aspect)[0]    \n",
    "    print(str(aspect)+\": \"+str(dataPaper.firstChild.data))\n",
    "\n",
    "def getDataPaperYear():\n",
    "    dataPaper = xmlFile.getElementsByTagName(\"prism:coverDate\")[0]    \n",
    "    return str(dataPaper.firstChild.data)\n",
    "\n",
    "def getYearPaper(date):\n",
    "    newDate = str(date)    \n",
    "    year = newDate.split(\"-\")[0]\n",
    "    print(year)\n",
    "\n",
    "def getAuthors():\n",
    "    authors = xmlFile.getElementsByTagName(\"dc:creator\")[0] \n",
    "    #initial= authors[0].getElementsByTagName(\"ce:initials\")[0]      \n",
    "\n",
    "\n",
    "getDataPaper(\"prism:doi\")\n",
    "getDataPaper(\"dc:title\")\n",
    "getDataPaper(\"subtypeDescription\")\n",
    "getDataPaper(\"dc:publisher\")\n",
    "getDataPaper(\"openaccessFlag\")\n",
    "getDataPaper(\"prism:aggregationType\")\n",
    "getYearPaper(getDataPaperYear())    \n",
    "getAuthors()   "
   ]
  }
 ],
 "metadata": {
  "kernelspec": {
   "display_name": ".venv",
   "language": "python",
   "name": "python3"
  },
  "language_info": {
   "codemirror_mode": {
    "name": "ipython",
    "version": 3
   },
   "file_extension": ".py",
   "mimetype": "text/x-python",
   "name": "python",
   "nbconvert_exporter": "python",
   "pygments_lexer": "ipython3",
   "version": "3.12.0"
  }
 },
 "nbformat": 4,
 "nbformat_minor": 2
}
